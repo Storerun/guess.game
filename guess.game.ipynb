{
 "cells": [
  {
   "cell_type": "code",
   "execution_count": 8,
   "id": "feef76e3",
   "metadata": {},
   "outputs": [],
   "source": [
    "# this game guesses the number of oranges in a box.( a game of chance)\n"
   ]
  },
  {
   "cell_type": "code",
   "execution_count": 9,
   "id": "c8be51f6",
   "metadata": {},
   "outputs": [],
   "source": [
    "orange_num= 13\n",
    "guess_count=0\n",
    "guess_limit= 3\n"
   ]
  },
  {
   "cell_type": "code",
   "execution_count": 11,
   "id": "c5b662bb",
   "metadata": {},
   "outputs": [
    {
     "name": "stdout",
     "output_type": "stream",
     "text": [
      "Guess number: 1\n",
      "Guess number: 5\n",
      "Guess number: 13\n",
      "YOU WON\n"
     ]
    }
   ],
   "source": [
    "while guess_count < guess_limit:\n",
    "    guess=int(input(\"Guess number: \"))\n",
    "    guess_count=guess_count+1\n",
    "    if guess == orange_num:\n",
    "        print(\"YOU WON\")\n",
    "        break\n",
    "else:\n",
    "    print(\"SORRY, GAME OVER\")\n",
    "    "
   ]
  },
  {
   "cell_type": "code",
   "execution_count": null,
   "id": "ba21cc7d",
   "metadata": {},
   "outputs": [],
   "source": []
  }
 ],
 "metadata": {
  "kernelspec": {
   "display_name": "Python 3",
   "language": "python",
   "name": "python3"
  },
  "language_info": {
   "codemirror_mode": {
    "name": "ipython",
    "version": 3
   },
   "file_extension": ".py",
   "mimetype": "text/x-python",
   "name": "python",
   "nbconvert_exporter": "python",
   "pygments_lexer": "ipython3",
   "version": "3.8.8"
  }
 },
 "nbformat": 4,
 "nbformat_minor": 5
}
